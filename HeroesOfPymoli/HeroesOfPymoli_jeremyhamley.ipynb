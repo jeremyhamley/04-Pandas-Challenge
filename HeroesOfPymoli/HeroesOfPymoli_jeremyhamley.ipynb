{
 "cells": [
  {
   "cell_type": "markdown",
   "metadata": {},
   "source": [
    "### Heroes Of Pymoli Data Analysis\n",
    "* Of the 1163 active players, the vast majority are male (84%). There also exists, a smaller, but notable proportion of female players (14%).\n",
    "\n",
    "* Our peak age demographic falls between 20-24 (44.8%) with secondary groups falling between 15-19 (18.60%) and 25-29 (13.4%).  \n",
    "-----"
   ]
  },
  {
   "cell_type": "markdown",
   "metadata": {},
   "source": [
    "### Note\n",
    "* Instructions have been included for each segment. You do not have to follow them exactly, but they are included to help you think through the steps."
   ]
  },
  {
   "cell_type": "code",
   "execution_count": null,
   "metadata": {},
   "outputs": [],
   "source": [
    "# import modules pandas and os\n",
    "import pandas as pd\n",
    "import os\n",
    "\n",
    "# file path to open purchase data\n",
    "file_purchase_data = os.path.join(\"Resources\", \"purchase_data.csv\")\n",
    "\n",
    "# Read purchase data file and store in dataframe\n",
    "purchase_data_df = pd.read_csv(file_purchase_data)\n",
    "#preview purchsae data DataFrame\n",
    "purchase_data_df"
   ]
  },
  {
   "cell_type": "markdown",
   "metadata": {},
   "source": [
    "## Player Count"
   ]
  },
  {
   "cell_type": "markdown",
   "metadata": {},
   "source": [
    "* Display the total number of players\n"
   ]
  },
  {
   "cell_type": "code",
   "execution_count": null,
   "metadata": {},
   "outputs": [],
   "source": [
    "#count the number of unique players\n",
    "player_count = len(purchase_data_df[\"SN\"].unique())\n",
    "#add the total player count to a dataframe\n",
    "total_players_df = pd.DataFrame({\"Total Players\": [player_count]})\n",
    "#display the total number of players and align-right the data\n",
    "total_players_df.style.set_properties(**{'text-align': 'right'})\n"
   ]
  },
  {
   "cell_type": "markdown",
   "metadata": {},
   "source": [
    "## Purchasing Analysis (Total)"
   ]
  },
  {
   "cell_type": "markdown",
   "metadata": {},
   "source": [
    "* Run basic calculations to obtain number of unique items, average price, etc.\n",
    "* Create a summary data frame to hold the results\n",
    "* Optional: give the displayed data cleaner formatting\n",
    "* Display the summary data frame\n"
   ]
  },
  {
   "cell_type": "code",
   "execution_count": null,
   "metadata": {
    "scrolled": true
   },
   "outputs": [],
   "source": [
    "#collect purchasing data: unique item count, average purchase price, total number of purchases, total revenue from purchases\n",
    "item_count = len(purchase_data_df[\"Item Name\"].unique())\n",
    "average_purchase_price = round(purchase_data_df[\"Price\"].mean(),2)\n",
    "number_of_purchases = len(purchase_data_df[\"Purchase ID\"])\n",
    "total_revenue = purchase_data_df[\"Price\"].sum()\n",
    "#add puchasing data to a dataframe\n",
    "purchasing_anaysis_df = pd.DataFrame({\"Number of Unique Items\": [item_count],\n",
    "                                      \"Average Price\": [average_purchase_price],\n",
    "                                      \"Number of Purchases\": [number_of_purchases],\n",
    "                                      \"Total Revenue\": [total_revenue]\n",
    "                                     })\n",
    "#format currency data in puchasing anaysis dataframe\n",
    "purchasing_anaysis_df[\"Average Price\"] = purchasing_anaysis_df[\"Average Price\"].map(\"${:,.2f}\".format)\n",
    "purchasing_anaysis_df[\"Total Revenue\"] = purchasing_anaysis_df[\"Total Revenue\"].map(\"${:,.2f}\".format)\n",
    "\n",
    "#display the summary of the purchasing analysis and align-right\n",
    "purchasing_anaysis_df.style.set_properties(**{'text-align': 'right'})\n"
   ]
  },
  {
   "cell_type": "markdown",
   "metadata": {},
   "source": [
    "## Gender Demographics"
   ]
  },
  {
   "cell_type": "markdown",
   "metadata": {},
   "source": [
    "* Percentage and Count of Male Players\n",
    "* Percentage and Count of Female Players\n",
    "* Percentage and Count of Other / Non-Disclosed\n"
   ]
  },
  {
   "cell_type": "code",
   "execution_count": null,
   "metadata": {},
   "outputs": [],
   "source": [
    "#add age bins to purchase data for future use in Age Demogarphics analysis\n",
    "age_bin = [\"<10\", \"10-14\", \"15-19\", \"20-24\", \"25-29\", \"30-34\", \"35-39\", \"40+\", \"45+\"]\n",
    "age_list = purchase_data_df[\"Age\"]\n",
    "age_group = pd.cut(age_list,range(5,55,5), right=False, labels=age_bin)\n",
    "#create a new purchase dataframe with age group added\n",
    "purchase_data_with_age_group_df = purchase_data_df\n",
    "purchase_data_with_age_group_df[\"Age Group\"] = age_group\n",
    "#replace the age group for any player with an age of 45 and up with the age group \"40+\" to create one bin for all players age 40 and up\n",
    "purchase_data_with_age_group_df[\"Age Group\"] = purchase_data_with_age_group_df[\"Age Group\"].replace({\"45+\": \"40+\"})\n",
    "\n",
    "#pull player data and create a dataframe with a unique list of players\n",
    "player_data_with_age_group_df = purchase_data_with_age_group_df.loc[:,[\"SN\", \"Age\", \"Gender\", \"Age Group\"]]\n",
    "player_data_with_age_group_df.sort_values(\"SN\", inplace = True)\n",
    "player_data_with_age_group_df.drop_duplicates(subset = None, keep = 'first', inplace = True)\n",
    "total_players = len(player_data_with_age_group_df)\n",
    "\n",
    "#create a gender dataframe using \"Gender\" as the index to collect gender demographic data\n",
    "gender_df = player_data_with_age_group_df.set_index(\"Gender\")\n",
    "#create lists of players for each gender\n",
    "female_players = gender_df.loc[\"Female\", \"SN\"]\n",
    "male_players = gender_df.loc[\"Male\", \"SN\"]\n",
    "other_players = gender_df.loc[\"Other / Non-Disclosed\", \"SN\"]\n",
    "#create a demographics dataframe for gender data\n",
    "demograph_gend_df = pd.DataFrame({\"Gender\": [\"Male\", \"Female\", \"Other / Non-Disclosed\"],   \n",
    "                             \"Total Count\": [len(male_players), len(female_players), len(other_players)],\n",
    "                             \"Percentage of Players\": [len(male_players) / total_players, len(female_players) / total_players, len(other_players) / total_players]\n",
    "                            })\n",
    "\n",
    "#set the index to \"Gender\"\n",
    "demograph_gend_df = demograph_gend_df.set_index(\"Gender\")\n",
    "\n",
    "#format percentage data in demographics by gender dataframe\n",
    "demograph_gend_df[\"Percentage of Players\"] = demograph_gend_df[\"Percentage of Players\"].map(\"{:,.2%}\".format)\n",
    "\n",
    "#display the Demographics based on gender and right-align data\n",
    "demograph_gend_df.style.set_properties(**{'text-align': 'right'})\n"
   ]
  },
  {
   "cell_type": "markdown",
   "metadata": {},
   "source": [
    "\n",
    "## Purchasing Analysis (Gender)"
   ]
  },
  {
   "cell_type": "markdown",
   "metadata": {},
   "source": [
    "* Run basic calculations to obtain purchase count, avg. purchase price, avg. purchase total per person etc. by gender\n",
    "* Create a summary data frame to hold the results\n",
    "* Optional: give the displayed data cleaner formatting\n",
    "* Display the summary data frame"
   ]
  },
  {
   "cell_type": "code",
   "execution_count": null,
   "metadata": {},
   "outputs": [],
   "source": [
    "#create new purchasing dataframes for each gender\n",
    "purch_by_male_df = purchase_data_with_age_group_df.loc[purchase_data_with_age_group_df[\"Gender\"] == \"Male\",:]\n",
    "purch_by_female_df = purchase_data_with_age_group_df.loc[purchase_data_with_age_group_df[\"Gender\"] == \"Female\",:]\n",
    "purch_by_other_df = purchase_data_with_age_group_df.loc[purchase_data_with_age_group_df[\"Gender\"] == \"Other / Non-Disclosed\",:]\n",
    "#group purchases for each player within each gender dataframe\n",
    "group_by_male_df = purch_by_male_df.groupby([\"SN\"])\n",
    "group_by_female_df = purch_by_female_df.groupby([\"SN\"])\n",
    "group_by_other_df = purch_by_other_df.groupby([\"SN\"])\n",
    "#record the sum of each player's total purchases\n",
    "total_by_male = group_by_male_df[\"Price\"].sum()\n",
    "total_by_female = group_by_female_df[\"Price\"].sum()\n",
    "total_by_other = group_by_other_df[\"Price\"].sum()\n",
    "#create a dataframe to store the purchasing analysis by gender data\n",
    "purch_analysis_gend_df = pd.DataFrame({\"Gender\": [\"Male\", \"Female\", \"Other / Non-Disclosed\"],\n",
    "                                       \"Purchase Count\": [len(purch_by_male_df), len(purch_by_female_df), len(purch_by_other_df)],\n",
    "                                       \"Average Purchase Price\": [round(purch_by_male_df[\"Price\"].sum() / len(purch_by_male_df),2), round(purch_by_female_df[\"Price\"].sum() / len(purch_by_female_df),2),\n",
    "                                                                  round(purch_by_other_df[\"Price\"].sum() / len(purch_by_other_df),2)], \n",
    "                                       \"Total Purchase Value\": [purch_by_male_df[\"Price\"].sum(), purch_by_female_df[\"Price\"].sum(), purch_by_other_df[\"Price\"].sum()],\n",
    "                                       \"Avg Total Purchase per Person\": [round(total_by_male.sum() / len(total_by_male),2), round(total_by_female.sum() / len(total_by_female),2),\n",
    "                                                                         round(total_by_other.sum() / len(total_by_other),2)]\n",
    "                                      })\n",
    "\n",
    "#set the index to \"Gender\"\n",
    "purch_analysis_gend_df = purch_analysis_gend_df.set_index(\"Gender\")\n",
    "\n",
    "#format currency data in puchasing anaysis by gender dataframe\n",
    "purch_analysis_gend_df[\"Average Purchase Price\"] = purch_analysis_gend_df[\"Average Purchase Price\"].map(\"${:,.2f}\".format)\n",
    "purch_analysis_gend_df[\"Total Purchase Value\"] = purch_analysis_gend_df[\"Total Purchase Value\"].map(\"${:,.2f}\".format)\n",
    "purch_analysis_gend_df[\"Avg Total Purchase per Person\"] = purch_analysis_gend_df[\"Avg Total Purchase per Person\"].map(\"${:,.2f}\".format)\n",
    "\n",
    "\n",
    "#display the purchasing analysis by gender and align-right\n",
    "purch_analysis_gend_df.style.set_properties(**{'text-align': 'right'})\n"
   ]
  },
  {
   "cell_type": "markdown",
   "metadata": {},
   "source": [
    "## Age Demographics"
   ]
  },
  {
   "cell_type": "markdown",
   "metadata": {},
   "source": [
    "* Establish bins for ages\n",
    "* Categorize the existing players using the age bins. Hint: use pd.cut()\n",
    "* Calculate the numbers and percentages by age group\n",
    "* Create a summary data frame to hold the results\n",
    "* Optional: round the percentage column to two decimal points\n",
    "* Display Age Demographics Table\n"
   ]
  },
  {
   "cell_type": "code",
   "execution_count": null,
   "metadata": {},
   "outputs": [],
   "source": [
    "#create an age dataframe using \"Age Group\" as the index to collect age demographic data\n",
    "age_df = player_data_with_age_group_df.set_index(\"Age Group\")\n",
    "#collect a list of players for each age group\n",
    "under10 = age_df.loc[\"<10\",\"SN\"]\n",
    "tento14 = age_df.loc[\"10-14\",\"SN\"]\n",
    "fifteento19 = age_df.loc[\"15-19\",\"SN\"]\n",
    "twentyto24 = age_df.loc[\"20-24\",\"SN\"]\n",
    "twenty5to29 = age_df.loc[\"25-29\",\"SN\"]\n",
    "thirtyto34 = age_df.loc[\"30-34\",\"SN\"]\n",
    "thirty5to39 = age_df.loc[\"35-39\",\"SN\"]\n",
    "fourtyplus = age_df.loc[\"40+\",\"SN\"]\n",
    "#create a demographics dataframe for age data\n",
    "demograph_age_df = pd.DataFrame({\"Age Group\": [\"<10\", \"10-14\", \"15-19\", \"20-24\", \"25-29\", \"30-34\", \"35-39\", \"40+\"],\n",
    "                                \"Total Count\": [len(under10), len(tento14), len(fifteento19), len(twentyto24), len(twenty5to29), len(thirtyto34), len(thirty5to39), len(fourtyplus)],\n",
    "                                 \"Percentage of Players\": [len(under10)/total_players, len(tento14)/total_players, len(fifteento19)/total_players, len(twentyto24)/total_players, \n",
    "                                                           len(twenty5to29)/total_players, len(thirtyto34)/total_players, len(thirty5to39)/total_players, len(fourtyplus)/total_players]\n",
    "                                })\n",
    "\n",
    "#set the index to \"Age Group\"\n",
    "demograph_age_df = demograph_age_df.set_index(\"Age Group\")\n",
    "\n",
    "#format percentage data in demographics by age dataframe\n",
    "demograph_age_df[\"Percentage of Players\"] = demograph_age_df[\"Percentage of Players\"].map(\"{:,.2%}\".format)\n",
    "\n",
    "#display the Demographics based on age and slign-right\n",
    "demograph_age_df.style.set_properties(**{'text-align': 'right'})"
   ]
  },
  {
   "cell_type": "markdown",
   "metadata": {},
   "source": [
    "## Purchasing Analysis (Age)"
   ]
  },
  {
   "cell_type": "markdown",
   "metadata": {},
   "source": [
    "* Bin the purchase_data data frame by age\n",
    "* Run basic calculations to obtain purchase count, avg. purchase price, avg. purchase total per person etc. in the table below\n",
    "* Create a summary data frame to hold the results\n",
    "* Optional: give the displayed data cleaner formatting\n",
    "* Display the summary data frame"
   ]
  },
  {
   "cell_type": "code",
   "execution_count": null,
   "metadata": {},
   "outputs": [],
   "source": [
    "#create new purchasing dataframes for each age group\n",
    "purch_by_under10 = purchase_data_with_age_group_df.loc[purchase_data_with_age_group_df[\"Age Group\"] == \"<10\",:]\n",
    "purch_by_tento14 = purchase_data_with_age_group_df.loc[purchase_data_with_age_group_df[\"Age Group\"] == \"10-14\",:]\n",
    "purch_by_fifteento19 = purchase_data_with_age_group_df.loc[purchase_data_with_age_group_df[\"Age Group\"] == \"15-19\",:]\n",
    "purch_by_twentyto24 = purchase_data_with_age_group_df.loc[purchase_data_with_age_group_df[\"Age Group\"] == \"20-24\",:]\n",
    "purch_by_twenty5to29 = purchase_data_with_age_group_df.loc[purchase_data_with_age_group_df[\"Age Group\"] == \"25-29\",:]\n",
    "purch_by_thirtyto34 = purchase_data_with_age_group_df.loc[purchase_data_with_age_group_df[\"Age Group\"] == \"30-34\",:]\n",
    "purch_by_thirty5to39 = purchase_data_with_age_group_df.loc[purchase_data_with_age_group_df[\"Age Group\"] == \"35-39\",:]\n",
    "purch_by_fourtyplus = purchase_data_with_age_group_df.loc[purchase_data_with_age_group_df[\"Age Group\"] == \"40+\",:]\n",
    "\n",
    "#group purchases for each player within each age group dataframe\n",
    "group_by_under10 = purch_by_under10.groupby([\"SN\"])\n",
    "group_by_tento14 = purch_by_tento14.groupby([\"SN\"])\n",
    "group_by_fifteento19 = purch_by_fifteento19.groupby([\"SN\"])\n",
    "group_by_twentyto24 = purch_by_twentyto24.groupby([\"SN\"])\n",
    "group_by_twenty5to29 = purch_by_twenty5to29.groupby([\"SN\"])\n",
    "group_by_thirtyto34 = purch_by_thirtyto34.groupby([\"SN\"])\n",
    "group_by_thirty5to39 = purch_by_thirty5to39.groupby([\"SN\"])\n",
    "group_by_fourtyplus = purch_by_fourtyplus.groupby([\"SN\"])\n",
    "\n",
    "#record the sum of each player's total purchases\n",
    "total_by_under10 = group_by_under10[\"Price\"].sum()\n",
    "total_by_tento14 = group_by_tento14[\"Price\"].sum()\n",
    "total_by_fifteento19 = group_by_fifteento19[\"Price\"].sum()\n",
    "total_by_twentyto24 = group_by_twentyto24[\"Price\"].sum()\n",
    "total_by_twenty5to29 = group_by_twenty5to29[\"Price\"].sum()\n",
    "total_by_thirtyto34 = group_by_thirtyto34[\"Price\"].sum()\n",
    "total_by_thirty5to39 = group_by_thirty5to39[\"Price\"].sum()\n",
    "total_by_fourtyplus = group_by_fourtyplus[\"Price\"].sum()\n",
    "\n",
    "#create a dataframe to store the purchasing analysis by age group data\n",
    "purch_analysis_age_df = pd.DataFrame({\"Age Group\": [\"<10\", \"10-14\", \"15-19\", \"20-24\", \"25-29\", \"30-34\", \"35-39\", \"40+\"],\n",
    "                                       \"Purchase Count\": [len(purch_by_under10), len(purch_by_tento14), len(purch_by_fifteento19), len(purch_by_twentyto24),\n",
    "                                                        len(purch_by_twenty5to29),len(purch_by_thirtyto34),len(purch_by_thirty5to39),len(purch_by_fourtyplus)],\n",
    "                                       \"Average Purchase Price\": [round(purch_by_under10[\"Price\"].sum()/len(purch_by_under10),2),\n",
    "                                                                  round(purch_by_tento14[\"Price\"].sum()/len(purch_by_tento14),2),\n",
    "                                                                  round(purch_by_fifteento19[\"Price\"].sum()/len(purch_by_fifteento19),2), \n",
    "                                                                  round(purch_by_twentyto24[\"Price\"].sum()/len(purch_by_twentyto24),2), \n",
    "                                                                  round(purch_by_twenty5to29[\"Price\"].sum()/len(purch_by_twenty5to29),2), \n",
    "                                                                  round(purch_by_thirtyto34[\"Price\"].sum()/len(purch_by_thirtyto34),2), \n",
    "                                                                  round(purch_by_thirty5to39[\"Price\"].sum()/len(purch_by_thirty5to39),2), \n",
    "                                                                  round(purch_by_fourtyplus[\"Price\"].sum()/len(purch_by_fourtyplus),2)],\n",
    "                                       \"Total Purchase Value\": [purch_by_under10[\"Price\"].sum(), purch_by_tento14[\"Price\"].sum(), purch_by_fifteento19[\"Price\"].sum(), \n",
    "                                                                purch_by_twentyto24[\"Price\"].sum(), purch_by_twenty5to29[\"Price\"].sum(), purch_by_thirtyto34[\"Price\"].sum(),\n",
    "                                                                purch_by_thirty5to39[\"Price\"].sum(), purch_by_fourtyplus[\"Price\"].sum()],\n",
    "                                       \"Avg Total Purchase per Person\": [round(total_by_under10.sum()/len(total_by_under10),2),\n",
    "                                                                         round(total_by_tento14.sum()/len(total_by_tento14),2),\n",
    "                                                                         round(total_by_fifteento19.sum()/len(total_by_fifteento19),2), \n",
    "                                                                         round(total_by_twentyto24.sum()/len(total_by_twentyto24),2), \n",
    "                                                                         round(total_by_twenty5to29.sum()/len(total_by_twenty5to29),2), \n",
    "                                                                         round(total_by_thirtyto34.sum()/len(total_by_thirtyto34),2), \n",
    "                                                                         round(total_by_thirty5to39.sum()/len(total_by_thirty5to39),2), \n",
    "                                                                         round(total_by_fourtyplus.sum()/len(total_by_fourtyplus),2)]\n",
    "                                     })\n",
    "\n",
    "#set the index to \"Age Group\"\n",
    "purch_analysis_age_df = purch_analysis_age_df.set_index(\"Age Group\")\n",
    "\n",
    "#format currency data in purchase analysis by age dataframe\n",
    "purch_analysis_age_df[\"Average Purchase Price\"] = purch_analysis_age_df[\"Average Purchase Price\"].map(\"${:,.2f}\".format)\n",
    "purch_analysis_age_df[\"Total Purchase Value\"] = purch_analysis_age_df[\"Total Purchase Value\"].map(\"${:,.2f}\".format)\n",
    "purch_analysis_age_df[\"Avg Total Purchase per Person\"] = purch_analysis_age_df[\"Avg Total Purchase per Person\"].map(\"${:,.2f}\".format)\n",
    "\n",
    "#display the purchasing analysis by age group and align-right\n",
    "purch_analysis_age_df.style.set_properties(**{'text-align': 'right'})\n"
   ]
  },
  {
   "cell_type": "markdown",
   "metadata": {},
   "source": [
    "## Top Spenders"
   ]
  },
  {
   "cell_type": "markdown",
   "metadata": {},
   "source": [
    "* Run basic calculations to obtain the results in the table below\n",
    "* Create a summary data frame to hold the results\n",
    "* Sort the total purchase value column in descending order\n",
    "* Optional: give the displayed data cleaner formatting\n",
    "* Display a preview of the summary data frame\n"
   ]
  },
  {
   "cell_type": "code",
   "execution_count": null,
   "metadata": {},
   "outputs": [],
   "source": [
    "#create a dataframe with all purchases and group all purchases by player\n",
    "grouped_purchases_with_every_player_df = purchase_data_with_age_group_df[[\"SN\", \"Price\"]]\n",
    "grouped_purchases_with_every_player_df = grouped_purchases_with_every_player_df.groupby([\"SN\"])\n",
    "\n",
    "#create a list of players, calculate total value of purchases, total count of purchases, and average purchase price for each player\n",
    "player_list = player_data_with_age_group_df[\"SN\"].tolist()\n",
    "value_purchases_for_every_player = grouped_purchases_with_every_player_df.sum()\n",
    "value_list = value_purchases_for_every_player[\"Price\"].tolist()\n",
    "count_purchases_for_every_player = grouped_purchases_with_every_player_df.count()\n",
    "count_list = count_purchases_for_every_player[\"Price\"].tolist()\n",
    "avg_purchases_for_every_player = round(value_purchases_for_every_player[\"Price\"] / count_purchases_for_every_player[\"Price\"],2)\n",
    "avg_list = avg_purchases_for_every_player[:].tolist()\n",
    "\n",
    "#create dataframe that lists each player, total value of purchases for each player, and total count of purchases for each player\n",
    "top_spender_df = pd.DataFrame({\"SN\": player_list,\n",
    "                                \"Purchase Count\": count_list,\n",
    "                                \"Average Purchase Price\": avg_list,\n",
    "                                \"Total Purchase Value\": value_list\n",
    "                              })\n",
    "#set index to \"SN\"\n",
    "top_spender_df = top_spender_df.set_index(\"SN\")\n",
    "\n",
    "#sort top spenders from highest Total purchase value to lowest\n",
    "top_spender_df = top_spender_df.sort_values(\"Total Purchase Value\", ascending = False)\n",
    "\n",
    "#format currency data in top spenders dataframe\n",
    "top_spender_df[\"Average Purchase Price\"] = top_spender_df[\"Average Purchase Price\"].map(\"${:,.2f}\".format)\n",
    "top_spender_df[\"Total Purchase Value\"] = top_spender_df[\"Total Purchase Value\"].map(\"${:,.2f}\".format)\n",
    "\n",
    "#display the top 5 spenders and align-right\n",
    "top_spender_df.head().style.set_properties(**{'text-align': 'right'})\n"
   ]
  },
  {
   "cell_type": "markdown",
   "metadata": {},
   "source": [
    "## Most Popular Items"
   ]
  },
  {
   "cell_type": "markdown",
   "metadata": {},
   "source": [
    "* Retrieve the Item ID, Item Name, and Item Price columns\n",
    "* Group by Item ID and Item Name. Perform calculations to obtain purchase count, item price, and total purchase value\n",
    "* Create a summary data frame to hold the results\n",
    "* Sort the purchase count column in descending order\n",
    "* Optional: give the displayed data cleaner formatting\n",
    "* Display a preview of the summary data frame\n"
   ]
  },
  {
   "cell_type": "code",
   "execution_count": null,
   "metadata": {},
   "outputs": [],
   "source": [
    "#create a dataframe with a list of unique itemsand a dataframe with all item purchases and group all purchases by item\n",
    "purchases_by_item_df = purchase_data_with_age_group_df[[\"Purchase ID\", \"Item ID\", \"Item Name\", \"Price\"]]\n",
    "\n",
    "#pull item data and create a dataframe with a unique list of items.  Create lists of unique item data for use in Popular Items dataframe\n",
    "item_data_df = purchases_by_item_df.loc[:,[\"Item ID\", \"Item Name\"]]\n",
    "item_data_df.sort_values(\"Item Name\", inplace = True)\n",
    "item_data_df.drop_duplicates(subset = None, keep = 'first', inplace = True)\n",
    "\n",
    "item_id_list = item_data_df[\"Item ID\"].tolist()\n",
    "item_name_list = item_data_df[\"Item Name\"].tolist()\n",
    "\n",
    "#group item purchases by \"Item Name\" , calculate item purchase count and total item purchase value, and create lists for use in Popular Items dataframe\n",
    "purchases_by_item_df = purchases_by_item_df.groupby([\"Item Name\"])\n",
    "value_purchases_by_item = purchases_by_item_df.sum()\n",
    "item_value_list = value_purchases_by_item[\"Price\"].tolist()\n",
    "count_purchases_by_item = purchases_by_item_df.count()\n",
    "item_count_list = count_purchases_by_item[\"Price\"].tolist()\n",
    "avg_item_price = round(value_purchases_by_item[\"Price\"] / count_purchases_by_item[\"Price\"],2)\n",
    "avg_item_price_list = avg_item_price[:].tolist()\n",
    "\n",
    "#create dataframe that lists each item, item price, total value of purchases for each item, and total count of purchases for each item\n",
    "popular_items_df = pd.DataFrame({\"Item ID\": item_id_list,\n",
    "                                 \"Item Name\": item_name_list,\n",
    "                                 \"Purchase Count\": item_count_list,\n",
    "                                 \"Average Item Price\": avg_item_price_list,\n",
    "                                 \"Total Purchase Value\": item_value_list\n",
    "                              })\n",
    "#copy Popular items dataframe for use in Profitable items anaysis\n",
    "profitable_items_df = popular_items_df\n",
    "\n",
    "#set index to \"Item ID\"\n",
    "popular_items_df = popular_items_df.set_index(\"Item ID\")\n",
    "\n",
    "#sort popular items from highest Purchase count to lowest\n",
    "popular_items_df = popular_items_df.sort_values(\"Purchase Count\", ascending = False)\n",
    "\n",
    "#format currency data in popular items dataframe\n",
    "popular_items_df[\"Average Item Price\"] = popular_items_df[\"Average Item Price\"].map(\"${:,.2f}\".format)\n",
    "popular_items_df[\"Total Purchase Value\"] = popular_items_df[\"Total Purchase Value\"].map(\"${:,.2f}\".format)\n",
    "\n",
    "#display the top 10 most popular items\n",
    "popular_items_df.head(10).style.set_properties(**{'text-align': 'right'})"
   ]
  },
  {
   "cell_type": "markdown",
   "metadata": {},
   "source": [
    "## Most Profitable Items"
   ]
  },
  {
   "cell_type": "markdown",
   "metadata": {},
   "source": [
    "* Sort the above table by total purchase value in descending order\n",
    "* Optional: give the displayed data cleaner formatting\n",
    "* Display a preview of the data frame\n"
   ]
  },
  {
   "cell_type": "code",
   "execution_count": null,
   "metadata": {
    "scrolled": true
   },
   "outputs": [],
   "source": [
    "# #profitable_items_df = popular_items_df\n",
    "\n",
    "#set index to \"Item ID\"\n",
    "profitable_items_df = profitable_items_df.set_index(\"Item ID\")\n",
    "\n",
    "#sort profitable items from highest Total Purchase value to lowest\n",
    "profitable_items_df = profitable_items_df.sort_values(\"Total Purchase Value\", ascending = False)\n",
    "\n",
    "#format currency data in popular items dataframe\n",
    "profitable_items_df[\"Average Item Price\"] = profitable_items_df[\"Average Item Price\"].map(\"${:,.2f}\".format)\n",
    "profitable_items_df[\"Total Purchase Value\"] = profitable_items_df[\"Total Purchase Value\"].map(\"${:,.2f}\".format)\n",
    "\n",
    "#display the top 10 most profitable items\n",
    "profitable_items_df.head(10).style.set_properties(**{'text-align': 'right'})"
   ]
  },
  {
   "cell_type": "code",
   "execution_count": null,
   "metadata": {},
   "outputs": [],
   "source": [
    "#print trends based on final analysis\n",
    "print(\"\"\"\n",
    "Based on the final analysis, I can note the following three purchasing trends for the game Heroes of Pymoli:\n",
    "\n",
    "\n",
    " - Female and other/non-disclosed players are more likely than male players to purchase an item in the game.  \n",
    "And, for the purchases that female and other/non-disclosed players make, the purchase price for each item is higher on average than the purchase price for item purchased by males.\n",
    "      -Females players made an average of 1.40 purchases per female player with an average purchase price of $3.20 per purchase.\n",
    "      -Other/non-disclosed players made an average of 1.36 purchases per other/non-disclosed player with an average purchase price of $3.35 per purchase.\n",
    "      -Male players made an average of 1.35 purchases per male player with an average purchase price of $3.02 per purchase.\n",
    "      \n",
    " - The majority of players fall within the age group 20-24 (45% of players) and are the most likely group to purchase a item in the game.  \n",
    " On average, the purchase price for players age 20-24 matches average purchase price for all players across the entire game.\n",
    "       -Players within the age group 20-24 made an average of 1.41 purchases per player with an average purchase price of $3.05 per purchase.\n",
    "       -The age group with the highest purchase average is players aged 35-39 - this group has an average purchase price of $3.60 per purchase.\n",
    "       \n",
    " - The most popular and the most profitable item is the Final Critic.  The Final Critic was purchased more often than any other item and produced more revenue than any other item.\n",
    "       -The purchase price for the Final Critic was among the highest priced items.  The purchase price for items range between $1.00 and $4.99 per purchase.  \n",
    "       -The purchase price for the Final Critic averaged at $4.61 per purchase.  So, the higher price was not a deterrent.   \n",
    " \n",
    "\"\"\")\n"
   ]
  },
  {
   "cell_type": "code",
   "execution_count": null,
   "metadata": {},
   "outputs": [],
   "source": []
  }
 ],
 "metadata": {
  "anaconda-cloud": {},
  "kernel_info": {
   "name": "python3"
  },
  "kernelspec": {
   "display_name": "Python 3",
   "language": "python",
   "name": "python3"
  },
  "language_info": {
   "codemirror_mode": {
    "name": "ipython",
    "version": 3
   },
   "file_extension": ".py",
   "mimetype": "text/x-python",
   "name": "python",
   "nbconvert_exporter": "python",
   "pygments_lexer": "ipython3",
   "version": "3.6.10"
  },
  "latex_envs": {
   "LaTeX_envs_menu_present": true,
   "autoclose": false,
   "autocomplete": true,
   "bibliofile": "biblio.bib",
   "cite_by": "apalike",
   "current_citInitial": 1,
   "eqLabelWithNumbers": true,
   "eqNumInitial": 1,
   "hotkeys": {
    "equation": "Ctrl-E",
    "itemize": "Ctrl-I"
   },
   "labels_anchors": false,
   "latex_user_defs": false,
   "report_style_numbering": false,
   "user_envs_cfg": false
  },
  "nteract": {
   "version": "0.2.0"
  }
 },
 "nbformat": 4,
 "nbformat_minor": 2
}
